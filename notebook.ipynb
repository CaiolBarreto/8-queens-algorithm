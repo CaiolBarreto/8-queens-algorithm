{
 "cells": [
  {
   "attachments": {},
   "cell_type": "markdown",
   "metadata": {},
   "source": [
    "### Imports"
   ]
  },
  {
   "cell_type": "code",
   "execution_count": 62,
   "metadata": {},
   "outputs": [],
   "source": [
    "import matplotlib.pyplot as plt\n",
    "from main import Main\n",
    "import numpy"
   ]
  },
  {
   "attachments": {},
   "cell_type": "markdown",
   "metadata": {},
   "source": [
    "### Constants"
   ]
  },
  {
   "cell_type": "code",
   "execution_count": 63,
   "metadata": {},
   "outputs": [],
   "source": [
    "NUMBER_OF_EXECUTIONS = 5"
   ]
  },
  {
   "attachments": {},
   "cell_type": "markdown",
   "metadata": {},
   "source": [
    "### Results (First Implementation)"
   ]
  },
  {
   "attachments": {},
   "cell_type": "markdown",
   "metadata": {},
   "source": [
    "##### Code"
   ]
  },
  {
   "cell_type": "code",
   "execution_count": 64,
   "metadata": {},
   "outputs": [
    {
     "name": "stdout",
     "output_type": "stream",
     "text": [
      "=== Generation 10 ===\n",
      "Maximum Fitness = 27\n",
      "\n",
      "Solved in Generation 14!\n",
      "Chromosome = [5, 3, 6, 0, 7, 1, 4, 2],  Fitness = 28\n",
      "x x x Q x x x x\n",
      "x x x x x Q x x\n",
      "x x x x x x x Q\n",
      "x Q x x x x x x\n",
      "x x x x x x Q x\n",
      "Q x x x x x x x\n",
      "x x Q x x x x x\n",
      "x x x x Q x x x\n",
      "\n",
      "***** Iteração Nº 1 *****\n",
      "Número de indivíduos que convergiram:  1\n",
      "Fitness médio da população:  27.01\n",
      "=== Generation 10 ===\n",
      "Maximum Fitness = 27\n",
      "=== Generation 20 ===\n",
      "Maximum Fitness = 27\n",
      "=== Generation 30 ===\n",
      "Maximum Fitness = 27\n",
      "=== Generation 40 ===\n",
      "Maximum Fitness = 27\n",
      "=== Generation 50 ===\n",
      "Maximum Fitness = 27\n",
      "=== Generation 60 ===\n",
      "Maximum Fitness = 27\n",
      "=== Generation 70 ===\n",
      "Maximum Fitness = 27\n",
      "=== Generation 80 ===\n",
      "Maximum Fitness = 27\n",
      "=== Generation 90 ===\n",
      "Maximum Fitness = 27\n",
      "=== Generation 100 ===\n",
      "Maximum Fitness = 27\n",
      "=== Generation 110 ===\n",
      "Maximum Fitness = 27\n",
      "=== Generation 120 ===\n",
      "Maximum Fitness = 27\n",
      "=== Generation 130 ===\n",
      "Maximum Fitness = 27\n",
      "=== Generation 140 ===\n",
      "Maximum Fitness = 27\n",
      "=== Generation 150 ===\n",
      "Maximum Fitness = 27\n",
      "=== Generation 160 ===\n",
      "Maximum Fitness = 27\n",
      "=== Generation 170 ===\n",
      "Maximum Fitness = 27\n",
      "=== Generation 180 ===\n",
      "Maximum Fitness = 27\n",
      "=== Generation 190 ===\n",
      "Maximum Fitness = 27\n",
      "=== Generation 200 ===\n",
      "Maximum Fitness = 27\n",
      "=== Generation 210 ===\n",
      "Maximum Fitness = 27\n",
      "=== Generation 220 ===\n",
      "Maximum Fitness = 27\n",
      "=== Generation 230 ===\n",
      "Maximum Fitness = 27\n",
      "=== Generation 240 ===\n",
      "Maximum Fitness = 27\n",
      "=== Generation 250 ===\n",
      "Maximum Fitness = 27\n",
      "=== Generation 260 ===\n",
      "Maximum Fitness = 27\n",
      "=== Generation 270 ===\n",
      "Maximum Fitness = 27\n",
      "=== Generation 280 ===\n",
      "Maximum Fitness = 27\n",
      "=== Generation 290 ===\n",
      "Maximum Fitness = 27\n",
      "=== Generation 300 ===\n",
      "Maximum Fitness = 27\n",
      "=== Generation 310 ===\n",
      "Maximum Fitness = 27\n",
      "=== Generation 320 ===\n",
      "Maximum Fitness = 27\n",
      "=== Generation 330 ===\n",
      "Maximum Fitness = 27\n",
      "=== Generation 340 ===\n",
      "Maximum Fitness = 27\n",
      "=== Generation 350 ===\n",
      "Maximum Fitness = 27\n",
      "=== Generation 360 ===\n",
      "Maximum Fitness = 27\n",
      "=== Generation 370 ===\n",
      "Maximum Fitness = 27\n",
      "=== Generation 380 ===\n",
      "Maximum Fitness = 27\n",
      "=== Generation 390 ===\n",
      "Maximum Fitness = 27\n",
      "=== Generation 400 ===\n",
      "Maximum Fitness = 27\n",
      "=== Generation 410 ===\n",
      "Maximum Fitness = 27\n",
      "=== Generation 420 ===\n",
      "Maximum Fitness = 27\n",
      "=== Generation 430 ===\n",
      "Maximum Fitness = 27\n",
      "=== Generation 440 ===\n",
      "Maximum Fitness = 27\n",
      "=== Generation 450 ===\n",
      "Maximum Fitness = 27\n",
      "=== Generation 460 ===\n",
      "Maximum Fitness = 27\n",
      "=== Generation 470 ===\n",
      "Maximum Fitness = 27\n",
      "=== Generation 480 ===\n",
      "Maximum Fitness = 27\n",
      "=== Generation 490 ===\n",
      "Maximum Fitness = 27\n",
      "=== Generation 500 ===\n",
      "Maximum Fitness = 27\n",
      "=== Generation 510 ===\n",
      "Maximum Fitness = 27\n",
      "=== Generation 520 ===\n",
      "Maximum Fitness = 27\n",
      "=== Generation 530 ===\n",
      "Maximum Fitness = 27\n",
      "=== Generation 540 ===\n",
      "Maximum Fitness = 27\n",
      "=== Generation 550 ===\n",
      "Maximum Fitness = 27\n",
      "=== Generation 560 ===\n",
      "Maximum Fitness = 27\n",
      "=== Generation 570 ===\n",
      "Maximum Fitness = 27\n",
      "=== Generation 580 ===\n",
      "Maximum Fitness = 27\n",
      "=== Generation 590 ===\n",
      "Maximum Fitness = 27\n",
      "=== Generation 600 ===\n",
      "Maximum Fitness = 27\n",
      "=== Generation 610 ===\n",
      "Maximum Fitness = 27\n",
      "=== Generation 620 ===\n",
      "Maximum Fitness = 27\n",
      "=== Generation 630 ===\n",
      "Maximum Fitness = 27\n",
      "=== Generation 640 ===\n",
      "Maximum Fitness = 27\n",
      "=== Generation 650 ===\n",
      "Maximum Fitness = 27\n",
      "=== Generation 660 ===\n",
      "Maximum Fitness = 27\n"
     ]
    },
    {
     "ename": "KeyboardInterrupt",
     "evalue": "",
     "output_type": "error",
     "traceback": [
      "\u001b[0;31m---------------------------------------------------------------------------\u001b[0m",
      "\u001b[0;31mKeyboardInterrupt\u001b[0m                         Traceback (most recent call last)",
      "Cell \u001b[0;32mIn[64], line 15\u001b[0m\n\u001b[1;32m      6\u001b[0m algorithm \u001b[39m=\u001b[39m Main(\n\u001b[1;32m      7\u001b[0m         population_size\u001b[39m=\u001b[39m\u001b[39m100\u001b[39m,\n\u001b[1;32m      8\u001b[0m         mutation_probability\u001b[39m=\u001b[39m\u001b[39m0.4\u001b[39m,\n\u001b[0;32m   (...)\u001b[0m\n\u001b[1;32m     11\u001b[0m         parents_pool_size\u001b[39m=\u001b[39m\u001b[39m5\u001b[39m,\n\u001b[1;32m     12\u001b[0m         )\n\u001b[1;32m     14\u001b[0m \u001b[39mfor\u001b[39;00m i \u001b[39min\u001b[39;00m \u001b[39mrange\u001b[39m(NUMBER_OF_EXECUTIONS):\n\u001b[0;32m---> 15\u001b[0m     best_dna_fitness, result_converged, iteration, fitness_of_dna, pop_converged \u001b[39m=\u001b[39m algorithm\u001b[39m.\u001b[39;49mrun()\n\u001b[1;32m     16\u001b[0m     generation_fitness_mean \u001b[39m=\u001b[39m numpy\u001b[39m.\u001b[39mmean(fitness_of_dna)\n\u001b[1;32m     17\u001b[0m     \u001b[39mprint\u001b[39m(\u001b[39mf\u001b[39m\u001b[39m\"\u001b[39m\u001b[39m***** Iteração Nº \u001b[39m\u001b[39m{\u001b[39;00mi\u001b[39m+\u001b[39m\u001b[39m1\u001b[39m\u001b[39m}\u001b[39;00m\u001b[39m *****\u001b[39m\u001b[39m\"\u001b[39m)\n",
      "File \u001b[0;32m~/Desktop/Estudo/faculdade/8-queens-algorithm/main.py:85\u001b[0m, in \u001b[0;36mMain.run\u001b[0;34m(self)\u001b[0m\n\u001b[1;32m     78\u001b[0m generation \u001b[39m=\u001b[39m \u001b[39m1\u001b[39m\n\u001b[1;32m     80\u001b[0m \u001b[39mwhile\u001b[39;00m (\n\u001b[1;32m     81\u001b[0m     \u001b[39mnot\u001b[39;00m \u001b[39mself\u001b[39m\u001b[39m.\u001b[39mmax_fitness\n\u001b[1;32m     82\u001b[0m     \u001b[39min\u001b[39;00m [DNA\u001b[39m.\u001b[39mfitness() \u001b[39mfor\u001b[39;00m DNA \u001b[39min\u001b[39;00m \u001b[39mself\u001b[39m\u001b[39m.\u001b[39mpopulation_object\u001b[39m.\u001b[39mpopulation]\n\u001b[1;32m     83\u001b[0m     \u001b[39mand\u001b[39;00m generation \u001b[39m<\u001b[39m \u001b[39m10000\u001b[39m\n\u001b[1;32m     84\u001b[0m ):\n\u001b[0;32m---> 85\u001b[0m     \u001b[39mself\u001b[39m\u001b[39m.\u001b[39mpopulation_object\u001b[39m.\u001b[39mpopulation \u001b[39m=\u001b[39m \u001b[39mself\u001b[39;49m\u001b[39m.\u001b[39;49mgenetic_queen()\n\u001b[1;32m     87\u001b[0m     \u001b[39mif\u001b[39;00m generation \u001b[39m%\u001b[39m \u001b[39m10\u001b[39m \u001b[39m==\u001b[39m \u001b[39m0\u001b[39m:\n\u001b[1;32m     88\u001b[0m         print_generation(generation, \u001b[39mself\u001b[39m\u001b[39m.\u001b[39mpopulation_object\u001b[39m.\u001b[39mpopulation)\n",
      "File \u001b[0;32m~/Desktop/Estudo/faculdade/8-queens-algorithm/main.py:67\u001b[0m, in \u001b[0;36mMain.genetic_queen\u001b[0;34m(self)\u001b[0m\n\u001b[1;32m     64\u001b[0m \u001b[39mif\u001b[39;00m \u001b[39mself\u001b[39m\u001b[39m.\u001b[39msurvivor_choice \u001b[39m==\u001b[39m SurvivorChoice\u001b[39m.\u001b[39mSUBSTITUTE_WORSE:\n\u001b[1;32m     65\u001b[0m     new_population\u001b[39m.\u001b[39mextend(\u001b[39mself\u001b[39m\u001b[39m.\u001b[39mpopulation_object\u001b[39m.\u001b[39mpopulation)\n\u001b[0;32m---> 67\u001b[0m new_population\u001b[39m.\u001b[39;49msort(key\u001b[39m=\u001b[39;49m\u001b[39mlambda\u001b[39;49;00m dna: dna\u001b[39m.\u001b[39;49mfitness(), reverse\u001b[39m=\u001b[39;49m\u001b[39mTrue\u001b[39;49;00m)\n\u001b[1;32m     69\u001b[0m \u001b[39m# Substitute worse\u001b[39;00m\n\u001b[1;32m     70\u001b[0m new_population \u001b[39m=\u001b[39m new_population[: \u001b[39mlen\u001b[39m(\u001b[39mself\u001b[39m\u001b[39m.\u001b[39mpopulation_object\u001b[39m.\u001b[39mpopulation)]\n",
      "File \u001b[0;32m~/Desktop/Estudo/faculdade/8-queens-algorithm/main.py:67\u001b[0m, in \u001b[0;36mMain.genetic_queen.<locals>.<lambda>\u001b[0;34m(dna)\u001b[0m\n\u001b[1;32m     64\u001b[0m \u001b[39mif\u001b[39;00m \u001b[39mself\u001b[39m\u001b[39m.\u001b[39msurvivor_choice \u001b[39m==\u001b[39m SurvivorChoice\u001b[39m.\u001b[39mSUBSTITUTE_WORSE:\n\u001b[1;32m     65\u001b[0m     new_population\u001b[39m.\u001b[39mextend(\u001b[39mself\u001b[39m\u001b[39m.\u001b[39mpopulation_object\u001b[39m.\u001b[39mpopulation)\n\u001b[0;32m---> 67\u001b[0m new_population\u001b[39m.\u001b[39msort(key\u001b[39m=\u001b[39m\u001b[39mlambda\u001b[39;00m dna: dna\u001b[39m.\u001b[39;49mfitness(), reverse\u001b[39m=\u001b[39m\u001b[39mTrue\u001b[39;00m)\n\u001b[1;32m     69\u001b[0m \u001b[39m# Substitute worse\u001b[39;00m\n\u001b[1;32m     70\u001b[0m new_population \u001b[39m=\u001b[39m new_population[: \u001b[39mlen\u001b[39m(\u001b[39mself\u001b[39m\u001b[39m.\u001b[39mpopulation_object\u001b[39m.\u001b[39mpopulation)]\n",
      "File \u001b[0;32m~/Desktop/Estudo/faculdade/8-queens-algorithm/DNA.py:23\u001b[0m, in \u001b[0;36mDNA.fitness\u001b[0;34m(self)\u001b[0m\n\u001b[1;32m     21\u001b[0m     current_gene \u001b[39m=\u001b[39m binary_to_integer(\u001b[39mself\u001b[39m\u001b[39m.\u001b[39mchromosome[index])\n\u001b[1;32m     22\u001b[0m     left_diagonal[index \u001b[39m+\u001b[39m current_gene \u001b[39m-\u001b[39m \u001b[39m1\u001b[39m] \u001b[39m+\u001b[39m\u001b[39m=\u001b[39m \u001b[39m1\u001b[39m\n\u001b[0;32m---> 23\u001b[0m     right_diagonal[\u001b[39mlen\u001b[39;49m(\u001b[39mself\u001b[39;49m\u001b[39m.\u001b[39;49mchromosome) \u001b[39m-\u001b[39;49m index \u001b[39m+\u001b[39;49m current_gene \u001b[39m-\u001b[39m \u001b[39m2\u001b[39m] \u001b[39m+\u001b[39m\u001b[39m=\u001b[39m \u001b[39m1\u001b[39m\n\u001b[1;32m     25\u001b[0m diagonal_collisions \u001b[39m=\u001b[39m \u001b[39m0\u001b[39m\n\u001b[1;32m     27\u001b[0m \u001b[39mfor\u001b[39;00m index \u001b[39min\u001b[39;00m \u001b[39mrange\u001b[39m(\u001b[39m2\u001b[39m \u001b[39m*\u001b[39m size \u001b[39m-\u001b[39m \u001b[39m1\u001b[39m):\n",
      "\u001b[0;31mKeyboardInterrupt\u001b[0m: "
     ]
    }
   ],
   "source": [
    "best_generations_fitness_array = []\n",
    "fitness_results = []\n",
    "iterations = []\n",
    "converged_results = 0\n",
    "\n",
    "algorithm = Main(\n",
    "        population_size=100,\n",
    "        mutation_probability=0.4,\n",
    "        recombination_probability=0.9,\n",
    "        offspring_size=2,\n",
    "        parents_pool_size=5,\n",
    "        )\n",
    "\n",
    "for i in range(NUMBER_OF_EXECUTIONS):\n",
    "    best_dna_fitness, result_converged, iteration, fitness_of_dna, pop_converged = algorithm.run()\n",
    "    generation_fitness_mean = numpy.mean(fitness_of_dna)\n",
    "    print(f\"***** Iteração Nº {i+1} *****\")\n",
    "    print(f\"Número de indivíduos que convergiram: \", pop_converged)\n",
    "    print(f\"Fitness médio da população: \", generation_fitness_mean)\n",
    "    iterations.append(iteration)\n",
    "    fitness_results.append(best_dna_fitness)\n",
    "    best_generations_fitness_array.append(generation_fitness_mean)\n",
    "    converged_results += result_converged"
   ]
  },
  {
   "attachments": {},
   "cell_type": "markdown",
   "metadata": {},
   "source": [
    "##### Estatistic data"
   ]
  },
  {
   "cell_type": "code",
   "execution_count": null,
   "metadata": {},
   "outputs": [
    {
     "name": "stdout",
     "output_type": "stream",
     "text": [
      "Em quantas execuções o algoritmo convergiu (%):  0.4\n",
      "\n",
      "****** EM QUAL ITERAÇÃO O ALGORITMO CONVERGIU ******\n",
      "Média:  6004.0\n",
      "Desvio Padrão:  4894.080873872029\n",
      "\n",
      "****** FITNESS MÉDIO ALCANÇADO NAS EXECUÇÕES ******\n",
      "Média:  27.4\n",
      "Desvio Padrão:  0.4898979485566356\n"
     ]
    }
   ],
   "source": [
    "print(\"Em quantas execuções o algoritmo convergiu (%): \", converged_results / NUMBER_OF_EXECUTIONS)\n",
    "print(\"\\n****** EM QUAL ITERAÇÃO O ALGORITMO CONVERGIU ******\")\n",
    "print(\"Média: \", numpy.mean(iterations))\n",
    "print(\"Desvio Padrão: \", numpy.std(iterations))\n",
    "print(\"\\n****** FITNESS MÉDIO ALCANÇADO NAS EXECUÇÕES ******\")\n",
    "print(\"Média: \", numpy.mean(fitness_results))\n",
    "print(\"Desvio Padrão: \", numpy.std(fitness_results))"
   ]
  },
  {
   "attachments": {},
   "cell_type": "markdown",
   "metadata": {},
   "source": [
    "##### Graphs"
   ]
  },
  {
   "cell_type": "code",
   "execution_count": null,
   "metadata": {},
   "outputs": [
    {
     "data": {
      "image/png": "[encoded data removed]",
      "text/plain": [
       "<Figure size 640x480 with 1 Axes>"
      ]
     },
     "metadata": {},
     "output_type": "display_data"
    }
   ],
   "source": [
    "fitness_graph = best_generations_fitness_array\n",
    "\n",
    "axis_value = [num for num in range(1, NUMBER_OF_EXECUTIONS + 1)]\n",
    "\n",
    "plt.plot(axis_value, fitness_graph)\n",
    "\n",
    "plt.xlabel('Interações')\n",
    "plt.ylabel('Valores de fitness')\n",
    "\n",
    "plt.show()"
   ]
  },
  {
   "cell_type": "code",
   "execution_count": null,
   "metadata": {},
   "outputs": [
    {
     "data": {
      "image/png": "[encoded data removed]",
      "text/plain": [
       "<Figure size 640x480 with 1 Axes>"
      ]
     },
     "metadata": {},
     "output_type": "display_data"
    }
   ],
   "source": [
    "best_dna_graph = fitness_results\n",
    "\n",
    "axis_value = [num for num in range(1, NUMBER_OF_EXECUTIONS + 1)]\n",
    "\n",
    "plt.plot(axis_value, best_dna_graph)\n",
    "\n",
    "plt.show()"
   ]
  },
  {
   "attachments": {},
   "cell_type": "markdown",
   "metadata": {},
   "source": [
    "***"
   ]
  },
  {
   "attachments": {},
   "cell_type": "markdown",
   "metadata": {},
   "source": [
    "### Results (Second Implementation)"
   ]
  },
  {
   "attachments": {},
   "cell_type": "markdown",
   "metadata": {},
   "source": [
    "##### Code"
   ]
  },
  {
   "cell_type": "code",
   "execution_count": null,
   "metadata": {},
   "outputs": [
    {
     "name": "stdout",
     "output_type": "stream",
     "text": [
      "=== Generation 10 ===\n",
      "Maximum Fitness = 26\n",
      "=== Generation 20 ===\n",
      "Maximum Fitness = 27\n",
      "=== Generation 30 ===\n",
      "Maximum Fitness = 27\n",
      "\n",
      "Solved in Generation 36!\n",
      "Chromosome = [3, 1, 6, 4, 0, 7, 5, 2],  Fitness = 28\n",
      "x x x x Q x x x\n",
      "x Q x x x x x x\n",
      "x x x x x x x Q\n",
      "Q x x x x x x x\n",
      "x x x Q x x x x\n",
      "x x x x x x Q x\n",
      "x x Q x x x x x\n",
      "x x x x x Q x x\n",
      "\n",
      "***** Iteração Nº 1 *****\n",
      "Número de indivíduos que convergiram:  1\n",
      "Fitness médio da população:  25.508333333333333\n",
      "=== Generation 10 ===\n",
      "Maximum Fitness = 27\n",
      "=== Generation 20 ===\n",
      "Maximum Fitness = 27\n",
      "\n",
      "Solved in Generation 23!\n",
      "Chromosome = [5, 2, 0, 7, 3, 1, 6, 4],  Fitness = 28\n",
      "x x Q x x x x x\n",
      "x x x x x Q x x\n",
      "x Q x x x x x x\n",
      "x x x x Q x x x\n",
      "x x x x x x x Q\n",
      "Q x x x x x x x\n",
      "x x x x x x Q x\n",
      "x x x Q x x x x\n",
      "\n",
      "***** Iteração Nº 2 *****\n",
      "Número de indivíduos que convergiram:  1\n",
      "Fitness médio da população:  25.066666666666666\n",
      "=== Generation 10 ===\n",
      "Maximum Fitness = 27\n",
      "\n",
      "Solved in Generation 16!\n",
      "Chromosome = [3, 7, 4, 2, 0, 6, 1, 5],  Fitness = 28\n",
      "x x x x Q x x x\n",
      "x x x x x x Q x\n",
      "x x x Q x x x x\n",
      "Q x x x x x x x\n",
      "x x Q x x x x x\n",
      "x x x x x x x Q\n",
      "x x x x x Q x x\n",
      "x Q x x x x x x\n",
      "\n",
      "***** Iteração Nº 3 *****\n",
      "Número de indivíduos que convergiram:  1\n",
      "Fitness médio da população:  24.958333333333332\n",
      "=== Generation 10 ===\n",
      "Maximum Fitness = 27\n",
      "=== Generation 20 ===\n",
      "Maximum Fitness = 27\n",
      "=== Generation 30 ===\n",
      "Maximum Fitness = 27\n",
      "=== Generation 40 ===\n",
      "Maximum Fitness = 27\n",
      "=== Generation 50 ===\n",
      "Maximum Fitness = 27\n",
      "=== Generation 60 ===\n",
      "Maximum Fitness = 27\n",
      "=== Generation 70 ===\n",
      "Maximum Fitness = 27\n",
      "=== Generation 80 ===\n",
      "Maximum Fitness = 27\n",
      "\n",
      "Solved in Generation 87!\n",
      "Chromosome = [5, 2, 4, 7, 0, 3, 1, 6],  Fitness = 28\n",
      "x x x x Q x x x\n",
      "x x x x x x Q x\n",
      "x Q x x x x x x\n",
      "x x x x x Q x x\n",
      "x x Q x x x x x\n",
      "Q x x x x x x x\n",
      "x x x x x x x Q\n",
      "x x x Q x x x x\n",
      "\n",
      "***** Iteração Nº 4 *****\n",
      "Número de indivíduos que convergiram:  1\n",
      "Fitness médio da população:  25.083333333333332\n",
      "=== Generation 10 ===\n",
      "Maximum Fitness = 27\n",
      "=== Generation 20 ===\n",
      "Maximum Fitness = 27\n",
      "=== Generation 30 ===\n",
      "Maximum Fitness = 27\n",
      "\n",
      "Solved in Generation 35!\n",
      "Chromosome = [5, 2, 0, 7, 3, 1, 6, 4],  Fitness = 28\n",
      "x x Q x x x x x\n",
      "x x x x x Q x x\n",
      "x Q x x x x x x\n",
      "x x x x Q x x x\n",
      "x x x x x x x Q\n",
      "Q x x x x x x x\n",
      "x x x x x x Q x\n",
      "x x x Q x x x x\n",
      "\n",
      "***** Iteração Nº 5 *****\n",
      "Número de indivíduos que convergiram:  1\n",
      "Fitness médio da população:  24.475\n"
     ]
    }
   ],
   "source": [
    "from utils import ParentsSelection, SurvivorChoice\n",
    "\n",
    "new_best_generations_fitness_array = []\n",
    "new_fitness_results = []\n",
    "new_iterations = []\n",
    "new_converged_results = 0\n",
    "\n",
    "algorithm = Main(\n",
    "        population_size=120,\n",
    "        mutation_probability=0.6,\n",
    "        parents_selection=ParentsSelection.ROULETTE,\n",
    "        survivor_choice=SurvivorChoice.GENERACIONAL,\n",
    "        elitism_size=5\n",
    "        )\n",
    "\n",
    "for i in range(NUMBER_OF_EXECUTIONS):\n",
    "    best_dna_fitness, result_converged, iteration, fitness_of_dna, pop_converged = algorithm.run()\n",
    "    generation_fitness_mean = numpy.mean(fitness_of_dna)\n",
    "    print(f\"***** Iteração Nº {i+1} *****\")\n",
    "    print(f\"Número de indivíduos que convergiram: \", pop_converged)\n",
    "    print(f\"Fitness médio da população: \", generation_fitness_mean)\n",
    "    new_iterations.append(iteration)\n",
    "    new_fitness_results.append(best_dna_fitness)\n",
    "    new_best_generations_fitness_array.append(generation_fitness_mean)\n",
    "    new_converged_results += result_converged"
   ]
  },
  {
   "attachments": {},
   "cell_type": "markdown",
   "metadata": {},
   "source": [
    "##### Estatistic data"
   ]
  },
  {
   "cell_type": "code",
   "execution_count": null,
   "metadata": {},
   "outputs": [
    {
     "name": "stdout",
     "output_type": "stream",
     "text": [
      "Em quantas execuções o algoritmo convergiu (%):  1.0\n",
      "\n",
      "****** EM QUAL ITERAÇÃO O ALGORITMO CONVERGIU ******\n",
      "Média:  39.4\n",
      "Desvio Padrão:  24.952755358877706\n",
      "\n",
      "****** FITNESS MÉDIO ALCANÇADO NAS EXECUÇÕES ******\n",
      "Média:  28.0\n",
      "Desvio Padrão:  0.0\n"
     ]
    }
   ],
   "source": [
    "print(\"Em quantas execuções o algoritmo convergiu (%): \", new_converged_results / NUMBER_OF_EXECUTIONS)\n",
    "print(\"\\n****** EM QUAL ITERAÇÃO O ALGORITMO CONVERGIU ******\")\n",
    "print(\"Média: \", numpy.mean(new_iterations))\n",
    "print(\"Desvio Padrão: \", numpy.std(new_iterations))\n",
    "print(\"\\n****** FITNESS MÉDIO ALCANÇADO NAS EXECUÇÕES ******\")\n",
    "print(\"Média: \", numpy.mean(new_fitness_results))\n",
    "print(\"Desvio Padrão: \", numpy.std(new_fitness_results))"
   ]
  },
  {
   "attachments": {},
   "cell_type": "markdown",
   "metadata": {},
   "source": [
    "##### Graphs"
   ]
  },
  {
   "cell_type": "code",
   "execution_count": null,
   "metadata": {},
   "outputs": [
    {
     "data": {
      "image/png": "[encoded data removed]",
      "text/plain": [
       "<Figure size 640x480 with 1 Axes>"
      ]
     },
     "metadata": {},
     "output_type": "display_data"
    }
   ],
   "source": [
    "fitness_graph = new_best_generations_fitness_array\n",
    "\n",
    "axis_value = [num for num in range(1, NUMBER_OF_EXECUTIONS + 1)]\n",
    "\n",
    "plt.plot(axis_value, fitness_graph)\n",
    "\n",
    "plt.xlabel('Interações')\n",
    "plt.ylabel('Valores de fitness')\n",
    "\n",
    "plt.show()"
   ]
  },
  {
   "cell_type": "code",
   "execution_count": null,
   "metadata": {},
   "outputs": [
    {
     "name": "stdout",
     "output_type": "stream",
     "text": [
      "[28, 28, 28, 28, 28]\n"
     ]
    },
    {
     "data": {
      "image/png": "[encoded data removed]",
      "text/plain": [
       "<Figure size 640x480 with 1 Axes>"
      ]
     },
     "metadata": {},
     "output_type": "display_data"
    }
   ],
   "source": [
    "best_dna_graph = new_fitness_results\n",
    "\n",
    "axis_value = [num for num in range(1, NUMBER_OF_EXECUTIONS + 1)]\n",
    "\n",
    "plt.plot(axis_value, best_dna_graph)\n",
    "\n",
    "plt.show()"
   ]
  }
 ],
 "metadata": {
  "kernelspec": {
   "display_name": "Python 3",
   "language": "python",
   "name": "python3"
  },
  "language_info": {
   "codemirror_mode": {
    "name": "ipython",
    "version": 3
   },
   "file_extension": ".py",
   "mimetype": "text/x-python",
   "name": "python",
   "nbconvert_exporter": "python",
   "pygments_lexer": "ipython3",
   "version": "3.8.10"
  },
  "orig_nbformat": 4
 },
 "nbformat": 4,
 "nbformat_minor": 2
}
