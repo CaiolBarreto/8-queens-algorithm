{
 "cells": [
  {
   "cell_type": "code",
   "execution_count": 3,
   "metadata": {},
   "outputs": [
    {
     "name": "stdout",
     "output_type": "stream",
     "text": [
      "=== Generation 10 ===\n",
      "Maximum Fitness = 27\n",
      "\n",
      "Solved in Generation 14!\n",
      "Chromosome = [2, 5, 7, 1, 3, 0, 6, 4],  Fitness = 28\n",
      "x x x x x Q x x\n",
      "x x x Q x x x x\n",
      "Q x x x x x x x\n",
      "x x x x Q x x x\n",
      "x x x x x x x Q\n",
      "x Q x x x x x x\n",
      "x x x x x x Q x\n",
      "x x Q x x x x x\n",
      "\n",
      "Taxa de convergência:  0.03333333333333333\n",
      "\n",
      "****** FITNESS MÉDIO DAS EXECUÇÕES******\n",
      "Média:  28.0\n",
      "Desvio Padrão:  0.0\n"
     ]
    }
   ],
   "source": [
    "from main import Main\n",
    "\n",
    "algorithm = Main()\n",
    "\n",
    "algorithm.run()"
   ]
  },
  {
   "cell_type": "code",
   "execution_count": null,
   "metadata": {},
   "outputs": [],
   "source": []
  }
 ],
 "metadata": {
  "kernelspec": {
   "display_name": "Python 3",
   "language": "python",
   "name": "python3"
  },
  "language_info": {
   "codemirror_mode": {
    "name": "ipython",
    "version": 3
   },
   "file_extension": ".py",
   "mimetype": "text/x-python",
   "name": "python",
   "nbconvert_exporter": "python",
   "pygments_lexer": "ipython3",
   "version": "3.10.6"
  },
  "orig_nbformat": 4
 },
 "nbformat": 4,
 "nbformat_minor": 2
}
